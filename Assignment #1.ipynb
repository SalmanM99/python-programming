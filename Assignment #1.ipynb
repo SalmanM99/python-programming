{
 "cells": [
  {
   "cell_type": "code",
   "execution_count": 1,
   "metadata": {},
   "outputs": [
    {
     "name": "stdout",
     "output_type": "stream",
     "text": [
      "Twinkle, twinkle, little star,\n",
      "\tHow I wonder what you are!\n",
      "\t\tUp above the world so high,\n",
      "\t\tLike a diamond in the sky.\n",
      "Twinkle, twinkle, little star,\n",
      "\tHow I wonder what you are\n"
     ]
    }
   ],
   "source": [
    "print(\"Twinkle, twinkle, little star,\")\n",
    "print(\"\\tHow I wonder what you are!\")\n",
    "print(\"\\t\\tUp above the world so high,\\n\\t\\tLike a diamond in the sky.\")\n",
    "print(\"Twinkle, twinkle, little star,\")\n",
    "print(\"\\tHow I wonder what you are\")"
   ]
  },
  {
   "cell_type": "code",
   "execution_count": 1,
   "metadata": {},
   "outputs": [
    {
     "name": "stdout",
     "output_type": "stream",
     "text": [
      "python version 3.7.4 (default, Aug  9 2019, 18:34:13) [MSC v.1915 64 bit (AMD64)]\n"
     ]
    }
   ],
   "source": [
    "import sys\n",
    "system=\"python version\"\n",
    "print(system, sys.version)"
   ]
  },
  {
   "cell_type": "code",
   "execution_count": 20,
   "metadata": {},
   "outputs": [
    {
     "name": "stdout",
     "output_type": "stream",
     "text": [
      "2019 - 10 - 31 time 11 : 36\n"
     ]
    }
   ],
   "source": [
    "from datetime import datetime\n",
    "today=datetime.today()\n",
    "year=today.year\n",
    "month=today.month\n",
    "day=today.day\n",
    "hour=today.hour\n",
    "CurrentMinute =today.minute \n",
    "print(year,\"-\",month,\"-\",day,\"time\",hour,\":\",CurrentMinute)"
   ]
  },
  {
   "cell_type": "code",
   "execution_count": 2,
   "metadata": {},
   "outputs": [
    {
     "name": "stdout",
     "output_type": "stream",
     "text": [
      "Enter the Raduis:4\n",
      "The area of Raduis: 50.24\n"
     ]
    }
   ],
   "source": [
    "PI=3.14\n",
    "raduis=int(input(\"Enter the Raduis:\"))\n",
    "area=PI *raduis*raduis\n",
    "print(\"The area of Raduis:\",'%.2f'%area)"
   ]
  },
  {
   "cell_type": "code",
   "execution_count": 3,
   "metadata": {},
   "outputs": [
    {
     "name": "stdout",
     "output_type": "stream",
     "text": [
      "enter first_name:salman\n",
      "enter last_name:memon\n",
      "memon salman\n"
     ]
    }
   ],
   "source": [
    "first_name=input(\"enter first_name:\")\n",
    "last_name=input(\"enter last_name:\")\n",
    "print(last_name,first_name)"
   ]
  },
  {
   "cell_type": "code",
   "execution_count": 4,
   "metadata": {},
   "outputs": [
    {
     "name": "stdout",
     "output_type": "stream",
     "text": [
      "Enter 1st value4\n",
      "Enter 2nd value5\n",
      "Sum is: 9\n"
     ]
    }
   ],
   "source": [
    "num1=int(input(\"Enter 1st value\"))\n",
    "num2=int(input(\"Enter 2nd value\"))\n",
    "add=num1+num2\n",
    "print(\"Sum is:\",add)"
   ]
  },
  {
   "cell_type": "code",
   "execution_count": null,
   "metadata": {},
   "outputs": [],
   "source": []
  }
 ],
 "metadata": {
  "kernelspec": {
   "display_name": "Python 3",
   "language": "python",
   "name": "python3"
  },
  "language_info": {
   "codemirror_mode": {
    "name": "ipython",
    "version": 3
   },
   "file_extension": ".py",
   "mimetype": "text/x-python",
   "name": "python",
   "nbconvert_exporter": "python",
   "pygments_lexer": "ipython3",
   "version": "3.7.4"
  }
 },
 "nbformat": 4,
 "nbformat_minor": 2
}
